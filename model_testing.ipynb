{
 "cells": [
  {
   "cell_type": "code",
   "execution_count": 1,
   "metadata": {},
   "outputs": [],
   "source": [
    "import cloudpickle\n",
    "import pandas as pd"
   ]
  },
  {
   "cell_type": "code",
   "execution_count": 2,
   "metadata": {},
   "outputs": [],
   "source": [
    "with open('preprocessor.pkl', 'rb') as file:\n",
    "    preprocessor = cloudpickle.load(file)"
   ]
  },
  {
   "cell_type": "code",
   "execution_count": 3,
   "metadata": {},
   "outputs": [],
   "source": [
    "with open('model.pkl', 'rb') as file:\n",
    "    model = cloudpickle.load(file)"
   ]
  },
  {
   "cell_type": "code",
   "execution_count": 4,
   "metadata": {},
   "outputs": [],
   "source": [
    "# Replace with your actual data\n",
    "data = pd.DataFrame({\n",
    "    'CPU_Company': ['Intel', 'AMD'],\n",
    "    'GPU_Company': ['Nvidia', 'AMD'],\n",
    "    'Inches': [15.6, 13.3],\n",
    "    'CPU_Frequency (GHz)': [3.5, 2.8],\n",
    "    'RAM (GB)': [16, 8],\n",
    "    'Weight (kg)': [2.5, 1.8],\n",
    "    'screen_x_size': [1920, 2560],\n",
    "    'screen_y_size': [1080, 1440],\n",
    "    'Touch_screen': [0, 1],\n",
    "    'IPS': [1, 0],\n",
    "    'Full_HD': [1, 1],\n",
    "    '4k_Ultra_HD': [0, 0],\n",
    "    'Quad_HD': [0, 1],\n",
    "    'Screen_Resolution_NA': [0, 0],\n",
    "    'SSD': [512, 256],\n",
    "    'HDD': [0, 1],\n",
    "    'Flash_Storage': [0, 0],\n",
    "    'Company': ['Dell', 'Apple'],\n",
    "    'TypeName': ['Ultrabook', 'Notebook'],\n",
    "    'OpSys': ['Windows 10', 'macOS']\n",
    "})\n"
   ]
  },
  {
   "cell_type": "code",
   "execution_count": 5,
   "metadata": {},
   "outputs": [],
   "source": [
    "data_transformed = preprocessor.transform(data)"
   ]
  },
  {
   "cell_type": "code",
   "execution_count": 6,
   "metadata": {},
   "outputs": [
    {
     "data": {
      "text/plain": [
       "array([2754.7078, 1713.4691], dtype=float32)"
      ]
     },
     "execution_count": 6,
     "metadata": {},
     "output_type": "execute_result"
    }
   ],
   "source": [
    "model.predict(data_transformed)"
   ]
  },
  {
   "cell_type": "code",
   "execution_count": null,
   "metadata": {},
   "outputs": [],
   "source": []
  }
 ],
 "metadata": {
  "kernelspec": {
   "display_name": "base",
   "language": "python",
   "name": "python3"
  },
  "language_info": {
   "codemirror_mode": {
    "name": "ipython",
    "version": 3
   },
   "file_extension": ".py",
   "mimetype": "text/x-python",
   "name": "python",
   "nbconvert_exporter": "python",
   "pygments_lexer": "ipython3",
   "version": "3.12.4"
  }
 },
 "nbformat": 4,
 "nbformat_minor": 2
}
